{
 "cells": [
  {
   "cell_type": "code",
   "execution_count": 1,
   "metadata": {},
   "outputs": [],
   "source": [
    "import cvxopt.solvers\n",
    "import pandas as pd\n",
    "import numpy as np\n",
    "from sklearn.model_selection import train_test_split\n",
    "from sklearn.decomposition import PCA\n",
    "import matplotlib.pyplot as plt\n",
    "import os\n",
    "os.chdir('d:/python/data')"
   ]
  },
  {
   "cell_type": "code",
   "execution_count": 2,
   "metadata": {},
   "outputs": [],
   "source": [
    "df=pd.read_csv('iris.csv')"
   ]
  },
  {
   "cell_type": "code",
   "execution_count": 3,
   "metadata": {},
   "outputs": [],
   "source": [
    "#the classification has to be float instead of int\n",
    "#this is requested by cvxopt\n",
    "#for a binary classification\n",
    "#the value should be either -1.0 or 1.0\n",
    "df['y']=np.select([df['type']=='Iris-setosa', \\\n",
    "                   df['type']=='Iris-versicolor', \\\n",
    "                   df['type']=='Iris-virginica'],[-1.0,0.0,1.0])"
   ]
  },
  {
   "cell_type": "code",
   "execution_count": 4,
   "metadata": {},
   "outputs": [],
   "source": [
    "df=df[df['y']!=0.0]"
   ]
  },
  {
   "cell_type": "code",
   "execution_count": 5,
   "metadata": {},
   "outputs": [],
   "source": [
    "x=PCA(n_components=1).fit_transform(pd.concat([df[i] for i in df.columns if 'length' in i or 'width' in i],axis=1))"
   ]
  },
  {
   "cell_type": "code",
   "execution_count": 6,
   "metadata": {},
   "outputs": [],
   "source": [
    "x=pd.Series([x[i].item() for i in range(len(x))])"
   ]
  },
  {
   "cell_type": "code",
   "execution_count": 7,
   "metadata": {},
   "outputs": [],
   "source": [
    "y=df['y']"
   ]
  },
  {
   "cell_type": "code",
   "execution_count": 8,
   "metadata": {},
   "outputs": [],
   "source": [
    "x_train,x_test,y_train,y_test=train_test_split(x,y,test_size=0.3)"
   ]
  },
  {
   "cell_type": "code",
   "execution_count": 9,
   "metadata": {},
   "outputs": [],
   "source": [
    "#this is crucial,cuz train_test_split makes the index in random order\n",
    "x_test.reset_index(inplace=True,drop=True)\n",
    "y_test.reset_index(inplace=True,drop=True)\n",
    "x_train.reset_index(inplace=True,drop=True)\n",
    "y_train.reset_index(inplace=True,drop=True)"
   ]
  },
  {
   "cell_type": "code",
   "execution_count": 10,
   "metadata": {},
   "outputs": [],
   "source": [
    "#this is outer product matrix\n",
    "#which is the combination of all inner products\n",
    "#alternatively,we can write outer product in\n",
    "#np.mat([np.dot(y_train[i],y_train[j]) for j in y_train.index for i in y_train.index]).reshape(len(y_train),len(y_train))\n",
    "#or just np.mat(y_train).T*np.mat(y_train)\n",
    "y_product=np.outer(y_train,y_train)\n",
    "x_product=np.outer(x_train,x_train)"
   ]
  },
  {
   "cell_type": "code",
   "execution_count": 11,
   "metadata": {},
   "outputs": [],
   "source": [
    "P=cvxopt.matrix(x_product*y_product)"
   ]
  },
  {
   "cell_type": "code",
   "execution_count": 12,
   "metadata": {},
   "outputs": [],
   "source": [
    "q=cvxopt.matrix(-1*np.ones(len(x_train)))"
   ]
  },
  {
   "cell_type": "code",
   "execution_count": 13,
   "metadata": {},
   "outputs": [],
   "source": [
    "G=cvxopt.matrix(np.diag(-1 * np.ones(len(x_train))))"
   ]
  },
  {
   "cell_type": "code",
   "execution_count": 14,
   "metadata": {},
   "outputs": [],
   "source": [
    "h=cvxopt.matrix(np.zeros(len(x_train)))"
   ]
  },
  {
   "cell_type": "code",
   "execution_count": 15,
   "metadata": {},
   "outputs": [],
   "source": [
    "A=cvxopt.matrix(y_train,(1,len(x_train)))"
   ]
  },
  {
   "cell_type": "code",
   "execution_count": 16,
   "metadata": {},
   "outputs": [],
   "source": [
    "b=cvxopt.matrix(0.0)"
   ]
  },
  {
   "cell_type": "code",
   "execution_count": 17,
   "metadata": {},
   "outputs": [
    {
     "name": "stdout",
     "output_type": "stream",
     "text": [
      "     pcost       dcost       gap    pres   dres\n",
      " 0: -2.7074e+00 -4.0020e+00  2e+02  1e+01  1e+00\n",
      " 1: -2.1585e-01 -5.7775e-01  1e+01  1e+00  1e-01\n",
      " 2:  3.4062e-02 -4.9433e-01  5e-01  1e-16  1e-15\n",
      " 3: -1.1555e-01 -1.7878e-01  6e-02  2e-17  4e-16\n",
      " 4: -1.3169e-01 -1.9041e-01  6e-02  5e-17  4e-16\n",
      " 5: -1.7161e-01 -1.7761e-01  6e-03  7e-17  3e-16\n",
      " 6: -1.7575e-01 -1.7584e-01  1e-04  3e-17  3e-16\n",
      " 7: -1.7582e-01 -1.7582e-01  1e-06  3e-17  3e-16\n",
      " 8: -1.7582e-01 -1.7582e-01  1e-08  6e-17  4e-16\n",
      "Optimal solution found.\n"
     ]
    }
   ],
   "source": [
    "solution=cvxopt.solvers.qp(P, q, G, h, A, b)"
   ]
  },
  {
   "cell_type": "code",
   "execution_count": 18,
   "metadata": {},
   "outputs": [],
   "source": [
    "alpha=pd.Series(solution['x'])"
   ]
  },
  {
   "cell_type": "code",
   "execution_count": 19,
   "metadata": {},
   "outputs": [],
   "source": [
    "w=np.sum(alpha*y_train*x_train)"
   ]
  },
  {
   "cell_type": "code",
   "execution_count": 20,
   "metadata": {},
   "outputs": [],
   "source": [
    "#here i am using prof andrew ng's way\n",
    "#alternatively, we can do a normal average of all value b\n",
    "#b=np.mean(y_train-w*x_train)\n",
    "b=-(min(x_train[y_train==1.0]*w)+max(x_train[y_train==-1.0]*w))/2"
   ]
  },
  {
   "cell_type": "code",
   "execution_count": 21,
   "metadata": {},
   "outputs": [
    {
     "name": "stdout",
     "output_type": "stream",
     "text": [
      "train accuracy: 100.0%\n"
     ]
    }
   ],
   "source": [
    "print('train accuracy: %s'%(len(y_train[np.sign(np.multiply(w,x_train)+b)==y_train])/len(y_train)*100)+'%')"
   ]
  },
  {
   "cell_type": "code",
   "execution_count": 22,
   "metadata": {},
   "outputs": [
    {
     "name": "stdout",
     "output_type": "stream",
     "text": [
      "test accuracy: 100.0%\n"
     ]
    }
   ],
   "source": [
    "print('test accuracy: %s'%(len(y_test[np.sign(np.multiply(w,x_test)+b)==y_test])/len(y_test)*100)+'%')"
   ]
  },
  {
   "cell_type": "code",
   "execution_count": null,
   "metadata": {},
   "outputs": [],
   "source": []
  }
 ],
 "metadata": {
  "kernelspec": {
   "display_name": "Python 3",
   "language": "python",
   "name": "python3"
  },
  "language_info": {
   "codemirror_mode": {
    "name": "ipython",
    "version": 3
   },
   "file_extension": ".py",
   "mimetype": "text/x-python",
   "name": "python",
   "nbconvert_exporter": "python",
   "pygments_lexer": "ipython3",
   "version": "3.6.5"
  }
 },
 "nbformat": 4,
 "nbformat_minor": 2
}
