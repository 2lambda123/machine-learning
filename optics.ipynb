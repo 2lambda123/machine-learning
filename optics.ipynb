{
 "cells": [
  {
   "cell_type": "markdown",
   "metadata": {},
   "source": [
    "### OPTICS\n",
    "\n",
    "&nbsp;\n",
    "\n",
    "OPTICS is a variation of DBSCAN. One of the biggest malaise for DBSCAN is to find the appropriate ε. OPTICS uses a special ordering based upon the organic order and the reachability distance to skip the needle search of optimal ε in the haystack. Although the quadratic time complexity of the algorithm can be avoided with the input of ε. As a result of quid pro quoi, ξ is a new parameter to determine the steep upward and downward areas in reachability plot. The valleys between steep upward and downward areas would be identified as clusters.\n",
    "\n",
    "For technical details of DBSCAN, you can click the link below.\n",
    "\n",
    "https://github.com/je-suis-tm/machine-learning/blob/master/dbscan.ipynb\n",
    "\n",
    "For technical details of OPTICS, you can read the original paper.\n",
    "\n",
    "https://www.dbs.ifi.lmu.de/Publikationen/Papers/OPTICS.pdf\n",
    "\n",
    "&nbsp;"
   ]
  },
  {
   "cell_type": "code",
   "execution_count": 1,
   "metadata": {},
   "outputs": [],
   "source": [
    "import sklearn.cluster\n",
    "import sklearn.decomposition\n",
    "import sklearn.datasets\n",
    "import matplotlib.pyplot as plt\n",
    "import pandas as pd\n",
    "import numpy as np\n",
    "import copy"
   ]
  },
  {
   "cell_type": "code",
   "execution_count": 2,
   "metadata": {},
   "outputs": [],
   "source": [
    "#compute euclidean distance matrix from dataframe\n",
    "#using numpy ndarray is faster\n",
    "#you can use scipy spatial matrix as well\n",
    "# import scipy.spatial\n",
    "# scipy.spatial.distance_matrix(data,data)\n",
    "def get_distance_matrix(data):\n",
    "\n",
    "    #initialize\n",
    "    dist_mat=np.zeros((len(data),len(data)))\n",
    "\n",
    "    #computing only upper triangle matrix to boost efficiency\n",
    "    for i in range(len(data)):\n",
    "        for j in range(i+1,len(data)):\n",
    "            euclidean_dist=sum((data.loc[j]-data.loc[i])**2)**0.5\n",
    "            dist_mat[i][j]=euclidean_dist\n",
    "            dist_mat[j][i]=euclidean_dist\n",
    "        \n",
    "    return dist_mat"
   ]
  },
  {
   "cell_type": "code",
   "execution_count": 3,
   "metadata": {},
   "outputs": [],
   "source": [
    "#prepare core distance and reachability distance for ordering\n",
    "#based upon definition 5 and 6 in the original paper\n",
    "def get_core_and_reach(dist_mat,minpts):\n",
    "\n",
    "    #computing core distance\n",
    "    #basically the minimum epsilon to make a random point core\n",
    "    #a core point must have at least minpts points within the radius of epsilon\n",
    "    #thus core distance would be the minpts-th data inside the distance matrix\n",
    "    #using index minpts cuz index 0 should be zero\n",
    "    #the euclidean distance of itself\n",
    "    core_dist=[sorted(dist_mat[i])[minpts] for i in range(len(dist_mat))]\n",
    "\n",
    "    #reachability distance from one point to another\n",
    "    #is the a larger number between core distance and euclidean distance\n",
    "    #as one of the points have to be a core point\n",
    "    #even a smaller euclidean distance has to satisfy the condition of core\n",
    "    reach_dist=np.zeros((len(dist_mat),len(dist_mat)))\n",
    "\n",
    "    for i in range(len(dist_mat)):\n",
    "        \n",
    "        #set diagonal inf\n",
    "        #as there is no point to check the distance from data point to itself\n",
    "        reach_dist[i][i]=float('inf')\n",
    "        for j in range(len(dist_mat)):\n",
    "            reachability=max(core_dist[j],dist_mat[i][j])\n",
    "            reach_dist[i][j]=reachability\n",
    "            \n",
    "    return core_dist,reach_dist"
   ]
  },
  {
   "cell_type": "code",
   "execution_count": 4,
   "metadata": {},
   "outputs": [],
   "source": [
    "#the idea of ordering by reachability distance\n",
    "#can be thought of as mapping high dimensional data into one dimension\n",
    "#data points with small reachability distance become neighbors on one axis\n",
    "#then we determine the area of clusters on one axis based upon ξ and minpts\n",
    "#based upon figure 6 and 7 in the original paper\n",
    "def get_ordering(reach_dist):\n",
    "\n",
    "    #i know using dataframe is slow\n",
    "    #but it is quite convenient, lol\n",
    "    #as this is reinventing the wheel\n",
    "    #the performance does not really matter\n",
    "    reach_df=pd.DataFrame(reach_dist)\n",
    "\n",
    "    #while iterating through the reachability distance matrix\n",
    "    #pick the data point with the smallest reachability distance to the current point\n",
    "    ordering=[]\n",
    "    for i in range(len(reach_df)):\n",
    "        ordering.append(reach_df.loc[i].idxmin())\n",
    "        del reach_df[ordering[-1]]\n",
    "        \n",
    "    return ordering"
   ]
  },
  {
   "cell_type": "code",
   "execution_count": 5,
   "metadata": {
    "scrolled": true
   },
   "outputs": [],
   "source": [
    "#get upward and downward areas based upon definition 10 in the original paper\n",
    "def get_up_down_areas(reach_plot,reach_plot_df,minpts):\n",
    "\n",
    "    start=None;end=None\n",
    "    steep_areas=[]\n",
    "\n",
    "    #detect steep areas regardless of upward/downward\n",
    "    for i in range(len(reach_plot)):\n",
    "\n",
    "        if start:\n",
    "\n",
    "            #inside the steep areas\n",
    "            #reachability distance change should be the same direction\n",
    "            sign_condition=reach_plot_df.at[i,'xi']*reach_plot_df.at[start,'xi']>=0\n",
    "\n",
    "            #inside the steep areas\n",
    "            #there should not be more than minpts non-ξ data points\n",
    "            #otherwise they can form a cluster\n",
    "            core_condition=len(reach_plot_df[reach_plot_df['xi']==0].loc[start:i])<minpts\n",
    "\n",
    "            #both start and end should be ξ data points\n",
    "            xi_condition=reach_plot_df.at[i,'xi']==reach_plot_df.at[start,'xi']\n",
    "\n",
    "            #only increment when both conditions are met\n",
    "            if sign_condition and core_condition:\n",
    "\n",
    "                #new end identified\n",
    "                if xi_condition:\n",
    "                    end=i  \n",
    "\n",
    "            #one steep area is identified\n",
    "            else:\n",
    "\n",
    "                #only add steep area when we have more than one ξ data point\n",
    "                if start and end:\n",
    "                    steep_areas.append([start,end])\n",
    "                start=None;end=None\n",
    "\n",
    "        #should not use else condition\n",
    "        #when if current data point has opposite ξ to start\n",
    "        #current data point should become the new start\n",
    "        if not start:        \n",
    "            if reach_plot_df.at[i,'xi']!=0:\n",
    "                start=i\n",
    "\n",
    "    #end of dataframe append\n",
    "    if start and end:\n",
    "        steep_areas.append([start,end])\n",
    "\n",
    "    #differentiate upward and downward areas\n",
    "    up_areas=[]\n",
    "    down_areas=[]\n",
    "    for i in steep_areas:\n",
    "        if reach_plot_df.at[i[0],'xi']==1:\n",
    "            up_areas.append(i)\n",
    "        else:\n",
    "            down_areas.append(i)\n",
    "\n",
    "    return up_areas,down_areas"
   ]
  },
  {
   "cell_type": "code",
   "execution_count": 6,
   "metadata": {},
   "outputs": [],
   "source": [
    "#get clusters based upon definition 11 in the original paper\n",
    "def find_clusters(up_areas,down_areas,reach_plot,xi,minpts):\n",
    "\n",
    "    clusters=[]\n",
    "    for i in down_areas:\n",
    "\n",
    "        start_down=i[0]\n",
    "        end_down=i[-1]\n",
    "        \n",
    "        #up areas start must be larger than down areas end\n",
    "        valid_up_areas=[ii for ii in up_areas if ii[0]>end_down]\n",
    "\n",
    "        for j in valid_up_areas:\n",
    "\n",
    "            start_up=j[0]\n",
    "            end_up=j[-1]\n",
    "            \n",
    "            #condition 3b\n",
    "            mib=max(reach_plot[start_down+1:end_up])\n",
    "            sc_1_star=mib<=reach_plot[start_down]*(1-xi)\n",
    "            sc_2_star=mib<=reach_plot[end_up]*(1-xi)        \n",
    "\n",
    "            if sc_1_star and sc_2_star:\n",
    "                \n",
    "                #condition 4\n",
    "                fig_18_b=reach_plot[start_down]*(1-xi)>=reach_plot[end_up]\n",
    "                fig_18_a=reach_plot[end_up]*(1-xi)>=reach_plot[start_down]\n",
    "\n",
    "                if fig_18_b:\n",
    "                    cluster_start=max([ii for ii in reach_plot[start_down:end_down+1] if ii>reach_plot[end_up+1]])\n",
    "                    cluster_end=end_up\n",
    "                elif fig_18_a:\n",
    "                    cluster_start=start_down\n",
    "                    cluster_end=min([ii for ii in reach_plot[start_up:end_up+1] if ii<reach_plot[start_down]])\n",
    "                else:\n",
    "                    cluster_start=start_down\n",
    "                    cluster_end=end_up\n",
    "\n",
    "                #condition 3a\n",
    "                if cluster_end-cluster_start>minpts-1:\n",
    "                    clusters.append([cluster_start,cluster_end])\n",
    "                    \n",
    "    return clusters"
   ]
  },
  {
   "cell_type": "code",
   "execution_count": 7,
   "metadata": {},
   "outputs": [],
   "source": [
    "#create dataframe\n",
    "xcol=['x0','x1','x2','x3']\n",
    "ycol='y'\n",
    "iris=sklearn.datasets.load_iris()\n",
    "df=pd.DataFrame(iris.data,columns=xcol)"
   ]
  },
  {
   "cell_type": "code",
   "execution_count": 8,
   "metadata": {},
   "outputs": [],
   "source": [
    "#each input factor has to be float/int\n",
    "#sklearn has already done that for us\n",
    "#but if you are using the dataset inside the repository\n",
    "#you can use np.unique to convert categorical data to int\n",
    "df[ycol]=iris.target"
   ]
  },
  {
   "cell_type": "code",
   "execution_count": 9,
   "metadata": {},
   "outputs": [],
   "source": [
    "#minpts denotes the minimum requirement to form a cluster\n",
    "#minpts should be larger than 2\n",
    "#there are different empirical rules\n",
    "#it can be 2 times dimensions\n",
    "#or it can be dimensions+1\n",
    "minpts=1+len(xcol)\n",
    "\n",
    "#ξ determines the steep upward and downward areas in reachability plot\n",
    "#the valleys between steep upward and downward areas\n",
    "#would be identified as clusters\n",
    "xi=0.05"
   ]
  },
  {
   "cell_type": "code",
   "execution_count": 10,
   "metadata": {},
   "outputs": [],
   "source": [
    "dist_mat=get_distance_matrix(df)"
   ]
  },
  {
   "cell_type": "code",
   "execution_count": 11,
   "metadata": {},
   "outputs": [],
   "source": [
    "core_dist,reach_dist=get_core_and_reach(dist_mat,minpts)\n",
    "\n",
    "ordering=get_ordering(reach_dist)"
   ]
  },
  {
   "cell_type": "code",
   "execution_count": 12,
   "metadata": {},
   "outputs": [],
   "source": [
    "reach_plot=[reach_dist[ind][val] for ind,val in enumerate(ordering)]"
   ]
  },
  {
   "cell_type": "code",
   "execution_count": 13,
   "metadata": {},
   "outputs": [
    {
     "data": {
      "image/png": "[encoded data removed]",
      "text/plain": [
       "<Figure size 432x288 with 1 Axes>"
      ]
     },
     "metadata": {
      "needs_background": "light"
     },
     "output_type": "display_data"
    }
   ],
   "source": [
    "plt.bar(range(0,len(ordering)),\n",
    "        reach_plot,\n",
    "        width=1)\n",
    "plt.show()"
   ]
  },
  {
   "cell_type": "code",
   "execution_count": 14,
   "metadata": {},
   "outputs": [],
   "source": [
    "reach_plot_df=pd.DataFrame()\n",
    "reach_plot_df['data']=reach_plot\n",
    "\n",
    "reach_plot_df['pct']=reach_plot_df['data'].pct_change()\n",
    "\n",
    "reach_plot_df['xi']=np.select([reach_plot_df['pct']>=xi,reach_plot_df['pct']<=-xi],[1,-1])"
   ]
  },
  {
   "cell_type": "code",
   "execution_count": 15,
   "metadata": {},
   "outputs": [],
   "source": [
    "up_areas,down_areas=get_up_down_areas(reach_plot,reach_plot_df,minpts)"
   ]
  },
  {
   "cell_type": "code",
   "execution_count": 16,
   "metadata": {},
   "outputs": [],
   "source": [
    "clusters=find_clusters(up_areas,down_areas,reach_plot,xi,minpts)"
   ]
  },
  {
   "cell_type": "code",
   "execution_count": null,
   "metadata": {},
   "outputs": [],
   "source": []
  },
  {
   "cell_type": "code",
   "execution_count": null,
   "metadata": {},
   "outputs": [],
   "source": []
  }
 ],
 "metadata": {
  "kernelspec": {
   "display_name": "Python 3",
   "language": "python",
   "name": "python3"
  },
  "language_info": {
   "codemirror_mode": {
    "name": "ipython",
    "version": 3
   },
   "file_extension": ".py",
   "mimetype": "text/x-python",
   "name": "python",
   "nbconvert_exporter": "python",
   "pygments_lexer": "ipython3",
   "version": "3.6.5"
  }
 },
 "nbformat": 4,
 "nbformat_minor": 2
}
