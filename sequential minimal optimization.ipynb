{
 "cells": [
  {
   "cell_type": "code",
   "execution_count": 1,
   "metadata": {},
   "outputs": [],
   "source": [
    "#smo is a very complex algorithm\n",
    "#plz make sure you have a solid understanding of svm to continue\n",
    "#for basics of svm, plz refer to the following link\n",
    "# https://github.com/tattooday/machine-learning/blob/master/binary%20support%20vector%20machine.ipynb\n",
    "\n",
    "#a reference for python codes of smo\n",
    "# https://jonchar.net/notebooks/SVM/\n",
    "#a reference for original paper of smo\n",
    "# https://www.microsoft.com/en-us/research/wp-content/uploads/2016/02/tr-98-14.pdf\n",
    "#a reference for math derivation of smo\n",
    "# http://jupiter.math.nctu.edu.tw/~yuhjye/assets/file/teaching/2017_machine_learning/SMO%20algorithm.pdf\n",
    "\n",
    "#as most details can be found in pseudo code of john platts paper\n",
    "#i will not give too many comments\n",
    "import random as rd\n",
    "import pandas as pd\n",
    "import numpy as np\n",
    "import matplotlib.pyplot as plt\n",
    "from sklearn.svm import SVC\n",
    "from sklearn.decomposition import PCA\n",
    "from sklearn.model_selection import train_test_split\n",
    "import os\n",
    "os.chdir('d:/')"
   ]
  },
  {
   "cell_type": "code",
   "execution_count": 2,
   "metadata": {},
   "outputs": [],
   "source": [
    "#this part is purely math derivation\n",
    "\n",
    "def get_alpha2(alpha2_old,y2,e2,e1,eta):\n",
    "    \n",
    "    alpha2_new=alpha2_old+y2*(e2-e1)/eta\n",
    "    \n",
    "    return alpha2_new\n",
    "\n",
    "\n",
    "#in john platts paper\n",
    "#the assumption is y=wx-b\n",
    "#but my code is based on y=wx+b\n",
    "#thats why we need to change the sign of eta\n",
    "def get_eta(k11,k22,k12):\n",
    "    \n",
    "    eta=k11+k22-2*k12\n",
    "    \n",
    "    return -eta\n",
    "\n",
    "\n",
    "def get_alpha1(alpha1_old,y1,y2,alpha2_old,alpha2_new):\n",
    "    \n",
    "    alpha1_new=alpha1_old+y1*y2*(alpha2_old-alpha2_new)\n",
    "    \n",
    "    return alpha1_new\n",
    "\n",
    "\n",
    "\n",
    "def get_b(e1,e2,y1,alpha1_new,alpha1, \\\n",
    "          k11,k12,k22,y2,alpha2_new_clipped,alpha2,b):\n",
    "    \n",
    "    b1=e1+y1*(alpha1_new-alpha1)*k11+ \\\n",
    "    y2*(alpha2_new_clipped-alpha2)*k12+b\n",
    "    \n",
    "    b2=e2+y1*(alpha1_new-alpha1)*k12+ \\\n",
    "    y2*(alpha2_new_clipped-alpha2)*k22+b\n",
    "    \n",
    "    return b1,b2\n",
    "\n",
    "\n",
    "def clip_alpha2(alpha2_new,l,h):\n",
    "    \n",
    "        \n",
    "    if alpha2_new>h:\n",
    "        alpha2_new_clipped=h\n",
    "    elif alpha2_new<l:\n",
    "        alpha2_new_clipped=l\n",
    "    else:\n",
    "        alpha2_new_clipped=alpha2_new\n",
    "        \n",
    "    return alpha2_new_clipped\n"
   ]
  },
  {
   "cell_type": "code",
   "execution_count": 3,
   "metadata": {},
   "outputs": [],
   "source": [
    "#still 3 types of kernels, linear,polynomial,gaussian\n",
    "def kernel(x1,x2,ktype='linear', \\\n",
    "           poly_constant=0,poly_power=1,gamma=0.5):\n",
    "    \n",
    "    if ktype=='linear':\n",
    "        x_product=(np.mat(x1)*np.mat(x2).T).tolist()[0][0]\n",
    "    elif ktype=='polynomial':\n",
    "        temp=np.mat(x1)*np.mat(x2).T\n",
    "        x_product=((x1.T*x2+poly_constant)**poly_power).tolist()[0][0]\n",
    "    else:\n",
    "        temp=np.mat([i-j for j in x1 for i in x2]).reshape(len(x1), \\\n",
    "                                                           len(x2))\n",
    "        x_product=np.exp(-1*gamma*(np.linalg.norm(temp))**2)\n",
    "        \n",
    "    return x_product"
   ]
  },
  {
   "cell_type": "code",
   "execution_count": 4,
   "metadata": {},
   "outputs": [],
   "source": [
    "#the main routine in the original paper\n",
    "def train(x_train,y_train,c=10,**kwargs):\n",
    "    numchanged=0\n",
    "    examineall=True\n",
    "    alphas=list(np.zeros(len(x_train)))\n",
    "    b=0\n",
    "    \n",
    "    #this is crucial\n",
    "    #without initial value\n",
    "    #everything will stay at 0\n",
    "    errors=list(np.multiply(y_train,-1))\n",
    "    \n",
    "    \n",
    "    while numchanged>0 or examineall:\n",
    "        numchanged=0\n",
    "        if examineall:\n",
    "            for i in range(len(x_train)):\n",
    "                output,alphas,b=examine_example(i, \\\n",
    "                                            x_train, \\\n",
    "                                            y_train, \\\n",
    "                                            b, \\\n",
    "                                            alphas,errors, \\\n",
    "                                            constant=c, \\\n",
    "                                            **kwargs)\n",
    "                numchanged+=output\n",
    "                \n",
    "        else:\n",
    "            for i in range(len(x_train)):\n",
    "                if alphas[i]!=0 and alphas[i]!=c:\n",
    "                    output,alphas,b=examine_example(i, \\\n",
    "                                            x_train, \\\n",
    "                                            y_train, \\\n",
    "                                            b, \\\n",
    "                                            alphas,errors, \\\n",
    "                                            constant=c, \\\n",
    "                                            **kwargs)\n",
    "                    numchanged+=output\n",
    "        \n",
    "        if examineall==True:\n",
    "            examineall=False\n",
    "        else:\n",
    "            if numchanged==0:\n",
    "                examineall==True\n",
    "    \n",
    "    return alphas,b"
   ]
  },
  {
   "cell_type": "code",
   "execution_count": 5,
   "metadata": {},
   "outputs": [],
   "source": [
    "#selection criteria on alpha1 and alpha2\n",
    "def examine_example(i,x_train,y_train,b, \\\n",
    "                    alphas,errors,constant, \\\n",
    "                    tol=0.005, \\\n",
    "                    **kwargs):\n",
    "\n",
    "    y2=y_train[i]\n",
    "    alpha2=alphas[i]\n",
    "    e2=errors[i]\n",
    "    support_vector=[]\n",
    "    output=0\n",
    "    \n",
    "    r2=e2*y2\n",
    "    \n",
    "    for idn in range(len(alphas)):\n",
    "        if alphas[idn]!=0 and alphas[idn]!=constant:\n",
    "            support_vector.append(idn)\n",
    "    \n",
    "\n",
    "    if (r2<-tol and alpha2<constant) or \\\n",
    "    (r2>tol and alpha2>0):\n",
    "        if len(support_vector) > 1:\n",
    "            \n",
    "            if e2>0:\n",
    "                crap,j=second_heuristic(i,alphas,y_train, \\\n",
    "                                         x_train,b,errors)\n",
    "            if e2<0:\n",
    "                j,crap=second_heuristic(i,alphas,y_train, \\\n",
    "                                         x_train,b,errors)\n",
    "            \n",
    "            result,b,alphas,errors=takestep(j,i, \\\n",
    "                                              alphas,y_train, \\\n",
    "                                              x_train,b, \\\n",
    "                                              constant,errors, \\\n",
    "                                             **kwargs)\n",
    "            if result:\n",
    "                output=1\n",
    "                return output,alphas,b\n",
    "            \n",
    "            \n",
    "            temp=rd.sample(support_vector,len(support_vector))\n",
    "            for l in temp:               \n",
    "                result,b,alphas,errors=takestep(l,i, \\\n",
    "                                              alphas,y_train, \\\n",
    "                                              x_train,b, \\\n",
    "                                              constant,errors, \\\n",
    "                                             **kwargs)\n",
    "                if result:\n",
    "                    output=1\n",
    "                    return output,alphas,b\n",
    "        \n",
    "        temp=rd.sample(list(np.arange(len(alphas))),len(alphas))\n",
    "        for m in temp:\n",
    "            result,b,alphas,errors=takestep(m,i, \\\n",
    "                                              alphas,y_train, \\\n",
    "                                              x_train,b, \\\n",
    "                                              constant,errors, \\\n",
    "                                             **kwargs)\n",
    "            if result:\n",
    "                output=1\n",
    "                return output,alphas,b\n",
    "\n",
    "    return output,alphas,b\n",
    "\n",
    "\n",
    "\n",
    "def second_heuristic(i,alphas,y_train, \\\n",
    "                     x_train,b,errors):\n",
    "    \n",
    "    e_list=[errors[k] for k in range(len(x_train)) if k!=i]\n",
    "    \n",
    "    maxval=e_list.index(max(e_list))\n",
    "    minval=e_list.index(min(e_list))\n",
    "    \n",
    "    return maxval,minval"
   ]
  },
  {
   "cell_type": "code",
   "execution_count": 6,
   "metadata": {},
   "outputs": [],
   "source": [
    "#the core part of updating alpha1,alpha2\n",
    "def takestep(idn1,idn2,alphas,y_train, \\\n",
    "             x_train,b,constant,errors, \\\n",
    "             eps=0.001,**kwargs):\n",
    "    \n",
    "    result=False\n",
    "    \n",
    "\n",
    "    if idn1==idn2:\n",
    "        return result,b,alphas,errors\n",
    "    \n",
    "    alpha1=alphas[idn1]\n",
    "    x1=x_train[idn1]\n",
    "    y1=y_train[idn1]\n",
    "    e1=errors[idn1]\n",
    "    alpha2=alphas[idn2]\n",
    "    x2=x_train[idn2]\n",
    "    y2=y_train[idn2]\n",
    "    e2=errors[idn2]\n",
    "    \n",
    "    s=y1*y2\n",
    "    \n",
    "    if y1!=y2:\n",
    "        l=max(0,alpha2-alpha1)\n",
    "        h=min(constant,constant-alpha1+alpha2)\n",
    "    else:\n",
    "        l=max(0,alpha1+alpha2-constant)\n",
    "        h=min(constant,alpha2+alpha1)\n",
    "    \n",
    "    if l==h:\n",
    "        return result,b,alphas,errors\n",
    "    \n",
    "    k11=kernel(x1,x1,**kwargs)\n",
    "    k12=kernel(x1,x2,**kwargs)\n",
    "    k22=kernel(x2,x2,**kwargs)\n",
    "    \n",
    "    eta=get_eta(k11,k22,k12)\n",
    "    \n",
    "    if eta<0:\n",
    "        alpha2_new=get_alpha2(alpha2,y2,e2,e1,eta)\n",
    "        alpha2_new_clipped=clip_alpha2(alpha2_new,l,h)\n",
    "    else:\n",
    "        f1=y1*(e1+b)-alpha1*kernel(x1,x1,**kwargs)+ \\\n",
    "        s*alpha2*kernel(x1,x2,**kwargs)\n",
    "        \n",
    "        f2=y2*(e2+b)-s*alpha1*kernel(x1,x2,**kwargs)- \\\n",
    "        alpha2*kernel(x2,x2,**kwargs)\n",
    "        \n",
    "        l1=alpha1+s*(alpha2-l)\n",
    "        h1=alpha1+s*(alpha2-h)\n",
    "        \n",
    "        lobj=l1*f1+l*f2+0.5*l1*l1*kernel(x1,x1,**kwargs)+ \\\n",
    "        0.5*l*l*kernel(x2,x2,**kwargs)+ \\\n",
    "        s*l*l1*kernel(x1,x2,**kwargs)\n",
    "        \n",
    "        hobj=h1*f1+h*f2+0.5*h1*h1*kernel(x1,x1,**kwargs)+ \\\n",
    "        0.5*h*h*kernel(x2,x2,**kwargs)+ \\\n",
    "        s*h*h1*kernel(x1,x2,**kwargs)\n",
    "        \n",
    "        if lobj<hobj-eps:\n",
    "            alpha2_new_clipped=hobj\n",
    "        elif lobj>hobj+eps:\n",
    "            alpha2_new_clipped=lobj\n",
    "        else:\n",
    "            alpha2_new_clipped=alpha2\n",
    "\n",
    "\n",
    "    if np.abs(alpha2_new_clipped-alpha2)<eps*(alpha2_new_clipped+ \\\n",
    "                                              alpha2+eps):\n",
    "\n",
    "        return result,b,alphas,errors\n",
    "\n",
    "    alpha1_new=get_alpha1(alpha1,y1,y2,alpha2,alpha2_new_clipped)\n",
    "    b1,b2=get_b(e1,e2,y1,alpha1_new,alpha1, \\\n",
    "              k11,k12,k22,y2,alpha2_new_clipped, \\\n",
    "                alpha2,b)\n",
    "    \n",
    "    if alpha1_new>0 and alpha1_new<constant:\n",
    "        b_new=b1\n",
    "    elif alpha2_new_clipped>0 and alpha2_new_clipped<constant:\n",
    "        b_new=b2\n",
    "    else:\n",
    "        b_new=(b1+b2)/2\n",
    "    \n",
    "    alphas[idn1]=alpha1_new\n",
    "    alphas[idn2]=alpha2_new_clipped\n",
    "    \n",
    "    \n",
    "    \n",
    "    for i in range(len(alphas)):\n",
    "        if i!=idn1 and i!=idn2:\n",
    "            \n",
    "            errors[i]+=y1*(alpha1_new-alpha1)* \\\n",
    "            kernel(x1,x_train[i],**kwargs)+ \\\n",
    "            y2*(alpha2_new_clipped-alpha2)* \\\n",
    "            kernel(x2,x_train[i],**kwargs)+ \\\n",
    "            (b-b_new)\n",
    "   \n",
    "    b=b_new\n",
    "    \n",
    "    result=True\n",
    "\n",
    "    return result,b,alphas,errors"
   ]
  },
  {
   "cell_type": "code",
   "execution_count": 7,
   "metadata": {},
   "outputs": [],
   "source": [
    "#using smo to forecast\n",
    "def smo(x_train,x_test,y_train,y_test,constant=10,**kwargs):\n",
    "    \n",
    "    alphas,b=train(x_train,y_train,c=constant,**kwargs)\n",
    "\n",
    "    forecast=[]\n",
    "    \n",
    "    for j in x_test:\n",
    "        temp=0\n",
    "        for i in range(len(x_train)):\n",
    "            temp+=alphas[i]*y_train[i]*kernel(x_train[i],j)\n",
    "        forecast.append(temp)\n",
    "    \n",
    "    forecast=list(np.sign(forecast))\n",
    "\n",
    "\n",
    "    return forecast"
   ]
  },
  {
   "cell_type": "code",
   "execution_count": 8,
   "metadata": {},
   "outputs": [],
   "source": [
    "#calculate train and test accuracy\n",
    "def self_smo(x_train,x_test,y_train,y_test,constant=10,**kwargs):\n",
    "    \n",
    "    forecast=smo(x_train,x_train,y_train,y_train,constant=constant)\n",
    "    percentage=len(pd.Series(y_train)[pd.Series(forecast)==pd.Series(y_train)])/len(y_train)\n",
    "    \n",
    "    print('\\ntrain accuracy: %.2f'%(percentage*100)+'%')\n",
    "    \n",
    "    forecast=smo(x_train,x_test,y_train,y_test,constant=10)\n",
    "    percentage=len(pd.Series(y_test)[pd.Series(forecast)==pd.Series(y_test)])/len(y_test)\n",
    "    \n",
    "    print('\\ntest accuracy: %.2f'%(percentage*100)+'%')"
   ]
  },
  {
   "cell_type": "code",
   "execution_count": 9,
   "metadata": {},
   "outputs": [],
   "source": [
    "#official package of machine learning\n",
    "def sklearn_svm(x_train,x_test,y_train,y_test,constant=10,**kwargs):\n",
    "    \n",
    "    m=SVC(kernel='linear', C=constant).fit(x_train,y_train)\n",
    "    \n",
    "    percentage=m.score(x_train,y_train)\n",
    "    print('\\ntrain accuracy: %.2f'%(percentage*100)+'%')\n",
    "    \n",
    "    percentage=m.score(x_test,y_test)\n",
    "    print('\\ntest accuracy: %.2f'%(percentage*100)+'%')"
   ]
  },
  {
   "cell_type": "code",
   "execution_count": 10,
   "metadata": {},
   "outputs": [],
   "source": [
    "df=pd.read_csv('iris.csv')"
   ]
  },
  {
   "cell_type": "code",
   "execution_count": 11,
   "metadata": {},
   "outputs": [],
   "source": [
    "#as usual, we use binary classification to simplify things\n",
    "#multiclass svm can be found in the following link\n",
    "# https://github.com/tattooday/machine-learning/blob/master/multiclass%20support%20vector%20machine.ipynb\n",
    "df['y']=np.select([df['type']=='Iris-setosa', \\\n",
    "                   df['type']=='Iris-versicolor', \\\n",
    "                   df['type']=='Iris-virginica'],[-1.0,0.0,1.0])\n",
    "\n",
    "df=df[df['y']!=0.0]"
   ]
  },
  {
   "cell_type": "code",
   "execution_count": 12,
   "metadata": {},
   "outputs": [],
   "source": [
    "#two dimensional data for the sake of easy visualization\n",
    "x1=PCA(n_components=1).fit_transform(pd.concat([df[i] for i in df.columns if 'sepal' in i],axis=1))\n",
    "x2=PCA(n_components=1).fit_transform(pd.concat([df[i] for i in df.columns if 'petal' in i],axis=1))"
   ]
  },
  {
   "cell_type": "code",
   "execution_count": 13,
   "metadata": {},
   "outputs": [],
   "source": [
    "y=df['y'].tolist()"
   ]
  },
  {
   "cell_type": "code",
   "execution_count": 14,
   "metadata": {},
   "outputs": [],
   "source": [
    "#crucial!\n",
    "#always reset index after loc or shuffle\n",
    "df.reset_index(drop=True,inplace=True)"
   ]
  },
  {
   "cell_type": "code",
   "execution_count": 15,
   "metadata": {},
   "outputs": [],
   "source": [
    "#wrap x into matrix form\n",
    "x=[[x1[i].item(),x2[i].item()] for i in range(len(df))]"
   ]
  },
  {
   "cell_type": "code",
   "execution_count": 16,
   "metadata": {},
   "outputs": [],
   "source": [
    "x_train,x_test,y_train,y_test=train_test_split(x,y,test_size=0.3)"
   ]
  },
  {
   "cell_type": "code",
   "execution_count": 17,
   "metadata": {},
   "outputs": [
    {
     "name": "stdout",
     "output_type": "stream",
     "text": [
      "\n",
      "train accuracy: 100.00%\n",
      "\n",
      "test accuracy: 100.00%\n"
     ]
    }
   ],
   "source": [
    "sklearn_svm(x_train,x_test,y_train,y_test,constant=10)"
   ]
  },
  {
   "cell_type": "code",
   "execution_count": 18,
   "metadata": {},
   "outputs": [
    {
     "name": "stdout",
     "output_type": "stream",
     "text": [
      "\n",
      "train accuracy: 100.00%\n",
      "\n",
      "test accuracy: 100.00%\n"
     ]
    }
   ],
   "source": [
    "self_smo(x_train,x_train,y_train,y_train,constant=10)"
   ]
  },
  {
   "cell_type": "code",
   "execution_count": 19,
   "metadata": {},
   "outputs": [
    {
     "name": "stdout",
     "output_type": "stream",
     "text": [
      "364 µs ± 5.28 µs per loop (mean ± std. dev. of 7 runs, 1000 loops each)\n"
     ]
    }
   ],
   "source": [
    "%timeit m=SVC(kernel='linear', C=100).fit(x_train,y_train)"
   ]
  },
  {
   "cell_type": "code",
   "execution_count": 20,
   "metadata": {},
   "outputs": [
    {
     "name": "stdout",
     "output_type": "stream",
     "text": [
      "1.02 s ± 209 ms per loop (mean ± std. dev. of 7 runs, 10 loops each)\n"
     ]
    }
   ],
   "source": [
    "%timeit w,b=train(x_train,y_train,c=100)"
   ]
  },
  {
   "cell_type": "markdown",
   "metadata": {},
   "source": [
    "<h4>Apparently self implementation of SMO is not as fast as sklearn. After all, sklearn runs on cython</h4>\n",
    "<br>"
   ]
  },
  {
   "cell_type": "code",
   "execution_count": 21,
   "metadata": {},
   "outputs": [
    {
     "data": {
      "image/png": "[encoded data removed]",
      "text/plain": [
       "<Figure size 720x432 with 1 Axes>"
      ]
     },
     "metadata": {},
     "output_type": "display_data"
    }
   ],
   "source": [
    "#visualization of linear kernel\n",
    "m=SVC(kernel='linear', C=10).fit(x_train,y_train)\n",
    "xx=np.arange(min(np.mat(x)[:,0])-1, \\\n",
    "             max(np.mat(x)[:,0])+1, \\\n",
    "             (max(np.mat(x)[:,0])-min(np.mat(x)[:,0]))/200)\n",
    "\n",
    "yy=np.arange(min(np.mat(x)[:,1])-1, \\\n",
    "             max(np.mat(x)[:,1])+1, \\\n",
    "             (max(np.mat(x)[:,1])-min(np.mat(x)[:,1]))/200)\n",
    "\n",
    "\n",
    "X,Y=np.meshgrid(xx,yy)\n",
    "forecast=m.predict(np.c_[X.ravel(),Y.ravel()])\n",
    "\n",
    "\n",
    "fig=plt.figure(figsize=(10,6))\n",
    "ax=fig.add_subplot(111)\n",
    "ax.spines['top'].set_visible(False)\n",
    "ax.spines['right'].set_visible(False)\n",
    "plt.pcolormesh(X,Y,forecast.reshape(X.shape),cmap='pink')\n",
    "\n",
    "for i in range(len(x)):\n",
    "    plt.scatter(x[i][0],x[i][1],c='r' if y[i]==1 else 'y')\n",
    "plt.show()"
   ]
  },
  {
   "cell_type": "code",
   "execution_count": 22,
   "metadata": {},
   "outputs": [
    {
     "data": {
      "image/png": "[encoded data removed]",
      "text/plain": [
       "<Figure size 720x432 with 1 Axes>"
      ]
     },
     "metadata": {},
     "output_type": "display_data"
    }
   ],
   "source": [
    "#visualization of gaussian kernel\n",
    "m=SVC(kernel='rbf', C=10).fit(x_train,y_train)\n",
    "xx=np.arange(min(np.mat(x)[:,0])-1, \\\n",
    "             max(np.mat(x)[:,0])+1, \\\n",
    "             (max(np.mat(x)[:,0])-min(np.mat(x)[:,0]))/200)\n",
    "\n",
    "yy=np.arange(min(np.mat(x)[:,1])-1, \\\n",
    "             max(np.mat(x)[:,1])+1, \\\n",
    "             (max(np.mat(x)[:,1])-min(np.mat(x)[:,1]))/200)\n",
    "\n",
    "\n",
    "X,Y=np.meshgrid(xx,yy)\n",
    "forecast=m.predict(np.c_[X.ravel(),Y.ravel()])\n",
    "\n",
    "\n",
    "fig=plt.figure(figsize=(10,6))\n",
    "ax=fig.add_subplot(111)\n",
    "ax.spines['top'].set_visible(False)\n",
    "ax.spines['right'].set_visible(False)\n",
    "plt.pcolormesh(X,Y,forecast.reshape(X.shape),cmap='pink')\n",
    "\n",
    "for i in range(len(x)):\n",
    "    plt.scatter(x[i][0],x[i][1],c='r' if y[i]==1 else 'y')\n",
    "plt.show()"
   ]
  },
  {
   "cell_type": "code",
   "execution_count": 23,
   "metadata": {},
   "outputs": [
    {
     "data": {
      "image/png": "[encoded data removed]",
      "text/plain": [
       "<Figure size 720x432 with 1 Axes>"
      ]
     },
     "metadata": {},
     "output_type": "display_data"
    }
   ],
   "source": [
    "#visualization of polynomial kernel\n",
    "m=SVC(kernel='poly', C=10).fit(x_train,y_train)\n",
    "xx=np.arange(min(np.mat(x)[:,0])-1, \\\n",
    "             max(np.mat(x)[:,0])+1, \\\n",
    "             (max(np.mat(x)[:,0])-min(np.mat(x)[:,0]))/200)\n",
    "\n",
    "yy=np.arange(min(np.mat(x)[:,1])-1, \\\n",
    "             max(np.mat(x)[:,1])+1, \\\n",
    "             (max(np.mat(x)[:,1])-min(np.mat(x)[:,1]))/200)\n",
    "\n",
    "\n",
    "X,Y=np.meshgrid(xx,yy)\n",
    "forecast=m.predict(np.c_[X.ravel(),Y.ravel()])\n",
    "\n",
    "\n",
    "fig=plt.figure(figsize=(10,6))\n",
    "ax=fig.add_subplot(111)\n",
    "ax.spines['top'].set_visible(False)\n",
    "ax.spines['right'].set_visible(False)\n",
    "plt.pcolormesh(X,Y,forecast.reshape(X.shape),cmap='pink')\n",
    "\n",
    "for i in range(len(x)):\n",
    "    plt.scatter(x[i][0],x[i][1],c='r' if y[i]==1 else 'y')\n",
    "plt.show()\n"
   ]
  },
  {
   "cell_type": "code",
   "execution_count": null,
   "metadata": {},
   "outputs": [],
   "source": []
  }
 ],
 "metadata": {
  "kernelspec": {
   "display_name": "Python 3",
   "language": "python",
   "name": "python3"
  },
  "language_info": {
   "codemirror_mode": {
    "name": "ipython",
    "version": 3
   },
   "file_extension": ".py",
   "mimetype": "text/x-python",
   "name": "python",
   "nbconvert_exporter": "python",
   "pygments_lexer": "ipython3",
   "version": "3.6.5"
  }
 },
 "nbformat": 4,
 "nbformat_minor": 2
}
