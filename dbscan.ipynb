{
 "cells": [
  {
   "cell_type": "markdown",
   "metadata": {},
   "source": [
    "### DBSCAN\n",
    "\n",
    "&nbsp;\n",
    "\n",
    "DBSCAN is a really cool unsupervised learning. In contrast to Gaussian Mixture, it has the capability of detecting non-linear boundaries. It does not require an assumption of the number of the clusters. Instead, it requires the minimum number of samples to construct a cluster and a parameter ε to determine the radius of the cluster. A cluster is formed when sufficient data points are within the preset radius or reachable from the data points within the radius.\n",
    "\n",
    "For technical details of DBSCAN, you can check the original paper.\n",
    "\n",
    "https://aaai.org/Papers/KDD/1996/KDD96-037.pdf\n",
    "\n",
    "&nbsp;"
   ]
  },
  {
   "cell_type": "code",
   "execution_count": 1,
   "metadata": {},
   "outputs": [],
   "source": [
    "from sklearn.neighbors import NearestNeighbors\n",
    "from sklearn.cluster import DBSCAN\n",
    "from sklearn.decomposition import PCA\n",
    "from sklearn.datasets import load_iris\n",
    "import matplotlib.pyplot as plt\n",
    "import pandas as pd\n",
    "import numpy as np\n",
    "import copy"
   ]
  },
  {
   "cell_type": "code",
   "execution_count": 2,
   "metadata": {},
   "outputs": [],
   "source": [
    "#create dataframe\n",
    "xcol=['x0','x1','x2','x3']\n",
    "ycol='y'\n",
    "iris=load_iris()\n",
    "df=pd.DataFrame(iris.data,columns=xcol)"
   ]
  },
  {
   "cell_type": "code",
   "execution_count": 3,
   "metadata": {},
   "outputs": [],
   "source": [
    "#each input factor has to be float/int\n",
    "#sklearn has already done that for us\n",
    "#but if you are using the dataset inside the repository\n",
    "#you can use np.unique to convert categorical data to int\n",
    "df[ycol]=iris.target"
   ]
  },
  {
   "cell_type": "code",
   "execution_count": 4,
   "metadata": {},
   "outputs": [],
   "source": [
    "#minpts denotes the minimum requirement to form a cluster\n",
    "#minpts should be larger than 2\n",
    "#there are different empirical rules\n",
    "#it can be 2 times dimensions\n",
    "#or it can be dimensions+1\n",
    "minpts=1+len(xcol)"
   ]
  },
  {
   "cell_type": "code",
   "execution_count": 5,
   "metadata": {},
   "outputs": [],
   "source": [
    "#epsilon denotes the maximum distance of points inside the same cluster\n",
    "#later we will discuss how to find optimal eps via knn\n",
    "#right now we just assume its 0.6\n",
    "eps=0.6"
   ]
  },
  {
   "cell_type": "code",
   "execution_count": 6,
   "metadata": {},
   "outputs": [],
   "source": [
    "#we compute euclidean distance from all other data points\n",
    "#we check if there are minpts neighbors suffice the distance condition\n",
    "#the distance condition is that euclidean distance is smaller than eps\n",
    "def check_neighbors(data,datapoint,minpts,eps):\n",
    "    \n",
    "    #compute euclidean distance\n",
    "    temp=data[xcol]-datapoint\n",
    "    temp['euclidean distance']=[sum([j**2 for j in temp.loc[i]])**0.5 for i in range(len(temp))]\n",
    "\n",
    "    #reset index to locate the neighbors\n",
    "    temp.reset_index(inplace=True)\n",
    "    \n",
    "    #we use minpts+1 becuz we include the core point itself\n",
    "    #if there are enough neighbors\n",
    "    #output the indices of neighbors\n",
    "    if len(temp[temp['euclidean distance']<=eps])>=minpts+1:\n",
    "        return temp[temp['euclidean distance']<=eps].index.tolist()\n",
    "    else:\n",
    "        return []    "
   ]
  },
  {
   "cell_type": "code",
   "execution_count": 7,
   "metadata": {},
   "outputs": [],
   "source": [
    "#core part of the algorithm\n",
    "def density_based(data,xcol,eps,minpts):\n",
    "    \n",
    "    checked=[]\n",
    "    cluster=-1\n",
    "    data['predict']=np.nan\n",
    "    \n",
    "    for i in data.index.tolist():\n",
    "        \n",
    "        #if the selected point is unchecked\n",
    "        #we check if it has enough neighbors to become a core point\n",
    "        if i not in checked:\n",
    "            datapoint=data[xcol].loc[i]\n",
    "            neighbors=check_neighbors(data,datapoint,minpts,eps)\n",
    "            checked.append(i)            \n",
    "            \n",
    "            #if it is confirmed to be the core point\n",
    "            #we remove itself from the neighbors\n",
    "            #we increment the cluster index\n",
    "            #and assign the cluster label to the core point\n",
    "            if neighbors:\n",
    "                neighbors.remove(i)\n",
    "                cluster+=1\n",
    "                data.at[i,'predict']=cluster\n",
    "            else:\n",
    "                continue\n",
    "                \n",
    "        else:\n",
    "            continue\n",
    "        \n",
    "        #we check if the neighbors can be become core points\n",
    "        #the process is pretty similar to the above\n",
    "        #this part can be written in recursion\n",
    "        #check the link below for more details\n",
    "        # https://github.com/je-suis-tm/recursion-and-dynamic-programming\n",
    "        while neighbors:\n",
    "            j=neighbors.pop()\n",
    "            data.at[j,'predict']=cluster\n",
    "            if j not in checked:\n",
    "                datapoint=data[xcol].loc[j]\n",
    "                newneighbors=check_neighbors(data,datapoint,minpts,eps)\n",
    "                checked.append(j)                \n",
    "                neighbors+=newneighbors\n",
    "    \n",
    "    #we set noise at -1\n",
    "    data['predict']=data['predict'].fillna(-1)\n",
    "    \n",
    "    return data"
   ]
  },
  {
   "cell_type": "code",
   "execution_count": 8,
   "metadata": {},
   "outputs": [],
   "source": [
    "#for unsupervised learning, clf.score doesnt return the accuracy\n",
    "#there is no cross validation, no known labels\n",
    "#the only way to detect the accuracy is vote of the majority\n",
    "#for each label given by DBSCAN\n",
    "#we check which iris type is the majority\n",
    "#we consider the majority as the correct classification\n",
    "#all we need to do is to count the minority\n",
    "def get_accuracy(data,class_):\n",
    "    \n",
    "    df=copy.deepcopy(data)\n",
    "    \n",
    "    #use dictionary to keep track of everything\n",
    "    d={}\n",
    "    \n",
    "    #counting\n",
    "    for i in df['predict'][df['y']==class_].unique():\n",
    "        d[i]=df['predict'][df['y']==class_].tolist().count(i)\n",
    "    \n",
    "    #comparison\n",
    "    temp=-1\n",
    "    lbl=None\n",
    "    for i in d:\n",
    "        if d[i]>temp:\n",
    "            lbl=i\n",
    "            temp=d[i]\n",
    "\n",
    "    return len(df['predict'][df['y']==class_][df['predict']!=lbl])"
   ]
  },
  {
   "cell_type": "code",
   "execution_count": 9,
   "metadata": {},
   "outputs": [],
   "source": [
    "#aggregate all functions into one big main function\n",
    "def spatial_clustering(df,xcol,eps,minpts):\n",
    "    \n",
    "    #machine learning\n",
    "    data=density_based(df,xcol,eps,minpts)\n",
    "    \n",
    "    #compute accuracy\n",
    "    erreur=0\n",
    "\n",
    "    for i in range(len(data['y'].unique())):\n",
    "        erreur+=get_accuracy(data,i)\n",
    "\n",
    "    accuracy=1-erreur/len(df)\n",
    "\n",
    "    print('accuracy: %s'%(accuracy))"
   ]
  },
  {
   "cell_type": "code",
   "execution_count": 10,
   "metadata": {},
   "outputs": [],
   "source": [
    "#dbscan implemented by sklearn\n",
    "def skl_dbscan(df,xcol,eps,minpts):\n",
    "    \n",
    "    #machine learning\n",
    "    clf=DBSCAN(eps=eps,min_samples=minpts)\n",
    "    clf.fit(df[xcol])    \n",
    "    df['predict']=clf.fit_predict(df[xcol])\n",
    "    \n",
    "    #compute accuracy\n",
    "    erreur=0\n",
    "\n",
    "    for i in range(len(set(clf.labels_))):\n",
    "        erreur+=get_accuracy(df,i)\n",
    "\n",
    "    accuracy=1-erreur/len(df)\n",
    "\n",
    "    print('accuracy: %s'%(accuracy))"
   ]
  },
  {
   "cell_type": "code",
   "execution_count": 11,
   "metadata": {},
   "outputs": [
    {
     "name": "stdout",
     "output_type": "stream",
     "text": [
      "accuracy: 0.9266666666666666\n"
     ]
    }
   ],
   "source": [
    "spatial_clustering(df,xcol,eps,minpts)"
   ]
  },
  {
   "cell_type": "code",
   "execution_count": 12,
   "metadata": {},
   "outputs": [
    {
     "name": "stdout",
     "output_type": "stream",
     "text": [
      "accuracy: 0.94\n"
     ]
    }
   ],
   "source": [
    "skl_dbscan(df,xcol,eps,minpts)"
   ]
  },
  {
   "cell_type": "code",
   "execution_count": 13,
   "metadata": {},
   "outputs": [],
   "source": [
    "#for the purpose of visualization\n",
    "#we reduce 4 dimensions to 2\n",
    "dims=2\n",
    "x=PCA(n_components=dims).fit_transform(df[xcol])\n",
    "data=density_based(df,xcol,eps,minpts)\n",
    "data['dim1']=x[:,0]\n",
    "data['dim2']=x[:,1]"
   ]
  },
  {
   "cell_type": "code",
   "execution_count": 14,
   "metadata": {},
   "outputs": [
    {
     "data": {
      "image/png": "[encoded data removed]",
      "text/plain": [
       "<Figure size 720x360 with 1 Axes>"
      ]
     },
     "metadata": {},
     "output_type": "display_data"
    }
   ],
   "source": [
    "#viz\n",
    "fig=plt.figure(figsize=(10,5))\n",
    "ax=fig.add_subplot(111)\n",
    "\n",
    "for i in set(data['predict']):\n",
    "    if i!=-1:\n",
    "        plt.scatter(data['dim1'][data['predict']==i],\n",
    "                    data['dim2'][data['predict']==i],\n",
    "                    label=f'Label {int(i)}',alpha=0.7)\n",
    "    else:\n",
    "        plt.scatter(data['dim1'][data['predict']==i],\n",
    "                    data['dim2'][data['predict']==i],\n",
    "                    label='Noise',alpha=0.7)\n",
    "\n",
    "plt.title('DBSCAN')\n",
    "plt.legend(loc=0)\n",
    "plt.show()"
   ]
  },
  {
   "cell_type": "markdown",
   "metadata": {},
   "source": [
    "&nbsp;\n",
    "\n",
    "### Selection of ε\n",
    "\n",
    "&nbsp;\n",
    "\n",
    "The selection of ε requires delicate balancing. If ε is too large, we will have larger but fewer clusters, vice versa. The optimal ε can be selected via Knee Method. It is quite similar to elbow method.\n",
    "\n",
    "* Use K Nearest Neighbor with K=minpts-1\n",
    "* Compute and plot KNN distance\n",
    "* Find the point where the greatest surge occurs\n",
    "* The underlying KNN distance is the optimal ε\n",
    "\n",
    "Alternatively, we can use a modified version of DBSCAN, called OPTICS. OPTICS only requires minpts and it does not require ε. To determine the number of the clusters, OPTICS requires a new parameter called ξ to determine steep upward and downward areas in a reachability plot.\n",
    "\n",
    "The details of KNN can be found in the link below.\n",
    "\n",
    "https://github.com/je-suis-tm/machine-learning/blob/master/k%20nearest%20neighbors.ipynb\n",
    "\n",
    "The details of Elbow Method can be found in the link below.\n",
    "\n",
    "https://github.com/je-suis-tm/machine-learning/blob/master/k%20means.ipynb\n",
    "\n",
    "The details of OPTICS can be found in the link below.\n",
    "\n",
    "https://github.com/je-suis-tm/machine-learning/blob/master/optics.ipynb\n",
    "\n",
    "&nbsp;"
   ]
  },
  {
   "cell_type": "code",
   "execution_count": 15,
   "metadata": {},
   "outputs": [],
   "source": [
    "#create dual axis plot\n",
    "def dual_axis_plot(xaxis,data1,data2,fst_color='r',\n",
    "                    sec_color='b',fig_size=(10,5),\n",
    "                   x_label='',y_label1='',y_label2='',\n",
    "                   legend1='',legend2='',grid=False,title=''):\n",
    "    \n",
    "    #preset the figure\n",
    "    fig=plt.figure(figsize=fig_size)\n",
    "    ax=fig.add_subplot(111)\n",
    "    \n",
    "    #plot left hand side\n",
    "    ax.set_xlabel(x_label)\n",
    "    ax.set_ylabel(y_label1, color=fst_color)\n",
    "    ax.plot(xaxis, data1, color=fst_color,label=legend1)\n",
    "    ax.tick_params(axis='y',labelcolor=fst_color)\n",
    "    ax.yaxis.labelpad=15\n",
    "    plt.legend(loc=3)\n",
    "    \n",
    "    #the crucial part of the function\n",
    "    #both curves share x axis\n",
    "    ax2=ax.twinx()\n",
    "    \n",
    "    #plot right hand side\n",
    "    ax2.set_ylabel(y_label2, color=sec_color,rotation=270)\n",
    "    ax2.plot(xaxis, data2, color=sec_color,label=legend2)\n",
    "    ax2.tick_params(axis='y',labelcolor=sec_color)\n",
    "    ax2.yaxis.labelpad=15    \n",
    "    plt.legend(loc=4)\n",
    "    \n",
    "    #enfin\n",
    "    fig.tight_layout()\n",
    "    plt.grid(grid)\n",
    "    plt.title(title)\n",
    "    plt.show()"
   ]
  },
  {
   "cell_type": "code",
   "execution_count": 16,
   "metadata": {},
   "outputs": [],
   "source": [
    "#estimate parameters of linear equation\n",
    "def get_line_params(x1,y1,x2,y2):\n",
    "    \n",
    "    a=(y1-y2)/(x1-x2)\n",
    "    b=y1-a*x1\n",
    "    \n",
    "    return a,b"
   ]
  },
  {
   "cell_type": "code",
   "execution_count": 17,
   "metadata": {},
   "outputs": [],
   "source": [
    "#compute perpendicular distance\n",
    "def get_distance(x,y,a,b):\n",
    "    \n",
    "    temp1=y-x*a-b\n",
    "    temp2=(a**2+1)**0.5\n",
    "    \n",
    "    return np.abs(temp1/temp2)"
   ]
  },
  {
   "cell_type": "code",
   "execution_count": 18,
   "metadata": {},
   "outputs": [],
   "source": [
    "#knee method for knn to find the optimal epsilon\n",
    "def find_optimal_eps(distances):\n",
    "    \n",
    "    #compute perpendicular distance\n",
    "    a,b=get_line_params(0,distances[0],len(distances)-1,distances[-1])\n",
    "\n",
    "    distance=[]\n",
    "    for i in range(len(distances)):    \n",
    "        distance.append(get_distance(i,distances[i],a,b))\n",
    "    \n",
    "    #viz\n",
    "    dual_axis_plot(np.arange(1,len(distance)+1),distances,distance,\n",
    "                   x_label='Points Sampled by Distance',\n",
    "                   y_label1='NN Distance',\n",
    "                   y_label2='Perpendicular Distance',\n",
    "                   legend1='NN',legend2='Knee',\n",
    "                   title='Knee Method for KNN',\n",
    "                   fst_color='#0abda0',sec_color='#720017')\n",
    "    \n",
    "    #get optimal eps\n",
    "    optimal=distances[distance.index(max(distance))]\n",
    "    \n",
    "    return optimal   "
   ]
  },
  {
   "cell_type": "code",
   "execution_count": 19,
   "metadata": {},
   "outputs": [],
   "source": [
    "#using k distance graph to get the optimal eps\n",
    "def get_eps(data,xcol,minpts):\n",
    "    \n",
    "    #use knn to compute k distance\n",
    "    clf=NearestNeighbors(n_neighbors=minpts-1)\n",
    "    clf.fit(data[xcol])\n",
    "    \n",
    "    #prepare for visualization\n",
    "    distances,_=clf.kneighbors(data[xcol])\n",
    "    distances=sorted(distances.tolist(),key=lambda x:x[1])\n",
    "    distances=[i[1] for i in distances]\n",
    "    \n",
    "    #viz and get eps\n",
    "    optimal=find_optimal_eps(distances)\n",
    "    \n",
    "    return optimal"
   ]
  },
  {
   "cell_type": "code",
   "execution_count": 20,
   "metadata": {},
   "outputs": [
    {
     "data": {
      "image/png": "[encoded data removed]",
      "text/plain": [
       "<Figure size 720x360 with 2 Axes>"
      ]
     },
     "metadata": {},
     "output_type": "display_data"
    }
   ],
   "source": [
    "eps=get_eps(df,xcol,minpts)"
   ]
  },
  {
   "cell_type": "code",
   "execution_count": 21,
   "metadata": {},
   "outputs": [
    {
     "data": {
      "text/plain": [
       "0.3605551275463992"
      ]
     },
     "execution_count": 21,
     "metadata": {},
     "output_type": "execute_result"
    }
   ],
   "source": [
    "#unfortunately this seems to be a terrible choice of eps\n",
    "#domain knowledge is absolutely more important\n",
    "eps"
   ]
  },
  {
   "cell_type": "code",
   "execution_count": 22,
   "metadata": {},
   "outputs": [
    {
     "name": "stdout",
     "output_type": "stream",
     "text": [
      "accuracy: 0.6599999999999999\n"
     ]
    }
   ],
   "source": [
    "spatial_clustering(df,xcol,eps,minpts)"
   ]
  },
  {
   "cell_type": "code",
   "execution_count": 23,
   "metadata": {},
   "outputs": [
    {
     "name": "stdout",
     "output_type": "stream",
     "text": [
      "accuracy: 0.6\n"
     ]
    }
   ],
   "source": [
    "skl_dbscan(df,xcol,eps,minpts)"
   ]
  },
  {
   "cell_type": "code",
   "execution_count": null,
   "metadata": {},
   "outputs": [],
   "source": []
  }
 ],
 "metadata": {
  "kernelspec": {
   "display_name": "Python 3",
   "language": "python",
   "name": "python3"
  },
  "language_info": {
   "codemirror_mode": {
    "name": "ipython",
    "version": 3
   },
   "file_extension": ".py",
   "mimetype": "text/x-python",
   "name": "python",
   "nbconvert_exporter": "python",
   "pygments_lexer": "ipython3",
   "version": "3.6.5"
  }
 },
 "nbformat": 4,
 "nbformat_minor": 2
}
