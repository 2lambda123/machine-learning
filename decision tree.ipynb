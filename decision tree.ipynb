﻿{
 "cells": [
  {
   "cell_type": "code",
   "execution_count": 30,
   "metadata": {},
   "outputs": [],
   "source": [
    "#good for information gain\n",
    "# https://www.bogotobogo.com/python/scikit-learn/scikt_machine_learning_Decision_Tree_Learning_Informatioin_Gain_IG_Impurity_Entropy_Gini_Classification_Error.php\n",
    "\n",
    "#good for splitting\n",
    "# https://lethalbrains.com/learn-ml-algorithms-by-coding-decision-trees-439ac503c9a4\n",
    "\n",
    "#good for tree building\n",
    "# https://machinelearningmastery.com/implement-decision-tree-algorithm-scratch-python/"
   ]
  },
  {
   "cell_type": "code",
   "execution_count": 87,
   "metadata": {},
   "outputs": [],
   "source": [
    "#each input has to be float/int\n",
    "#use np.unique to convert categorical data to int"
   ]
  },
  {
   "cell_type": "code",
   "execution_count": 1,
   "metadata": {},
   "outputs": [],
   "source": [
    "import pandas as pd\n",
    "import numpy as np\n",
    "import matplotlib.pyplot as plt\n",
    "import networkx as nx"
   ]
  },
  {
   "cell_type": "code",
   "execution_count": 46,
   "metadata": {},
   "outputs": [],
   "source": [
    "import os\n",
    "os.chdir('d:/')"
   ]
  },
  {
   "cell_type": "code",
   "execution_count": 54,
   "metadata": {},
   "outputs": [],
   "source": [
    "def impurity(data,method='gini'):\n",
    "    \n",
    "    output=0.0\n",
    "    \n",
    "    for i in set(data):      \n",
    "                    \n",
    "        prob=list(data).count(i)/len(data)\n",
    "        \n",
    "        if method=='gini':\n",
    "            output+=prob**2\n",
    "        \n",
    "        #entropy\n",
    "        else:\n",
    "            output+=prob*(np.log(prob)/np.log(2))\n",
    "    \n",
    "    extra=1 if method=='gini' else 0\n",
    "    \n",
    "    return extra-output\n",
    "    "
   ]
  },
  {
   "cell_type": "code",
   "execution_count": 55,
   "metadata": {},
   "outputs": [],
   "source": [
    "def information_gain(parent,left,right,*kwargs):\n",
    "    \n",
    "    leftc=len(left)/len(parent)\n",
    "    rightc=len(right)/len(parent)\n",
    "    \n",
    "    sumc=leftc*impurity(left,*kwargs)+rightc*impurity(right,*kwargs)\n",
    "    \n",
    "    return impurity(parent,*kwargs)-sumc    "
   ]
  },
  {
   "cell_type": "code",
   "execution_count": 88,
   "metadata": {},
   "outputs": [],
   "source": [
    "def node_split(data,*kwargs):\n",
    "    \n",
    "    info=0.0\n",
    "    \n",
    "    for i in data:\n",
    "\n",
    "        left=list(filter(lambda x:x<i,data))\n",
    "        right=list(filter(lambda x:x>=i,data))\n",
    "        \n",
    "        temp=information_gain(data,left,right,*kwargs)\n",
    "        \n",
    "        if info<temp:\n",
    "            info=temp\n",
    "            target=i\n",
    "            \n",
    "    return target,info"
   ]
  },
  {
   "cell_type": "code",
   "execution_count": 89,
   "metadata": {},
   "outputs": [],
   "source": [
    "def factors_split(df,*kwargs):\n",
    "    \n",
    "    output=pd.DataFrame()\n",
    "    \n",
    "    for i in df.columns:\n",
    "\n",
    "        target,info=node_split(df[i].tolist(),*kwargs)\n",
    "        \n",
    "        output[i]=[target,info]\n",
    "        \n",
    "    output=output.T\n",
    "    output.reset_index(inplace=True)\n",
    "    output.columns=['colname','target','info']\n",
    "    output.sort_values(by='info',inplace=True,ascending=False)\n",
    "    output.reset_index(inplace=True,drop=True)\n",
    "    \n",
    "    return output"
   ]
  },
  {
   "cell_type": "code",
   "execution_count": null,
   "metadata": {},
   "outputs": [],
   "source": []
  }
 ],
 "metadata": {
  "kernelspec": {
   "display_name": "Python 3",
   "language": "python",
   "name": "python3"
  },
  "language_info": {
   "codemirror_mode": {
    "name": "ipython",
    "version": 3
   },
   "file_extension": ".py",
   "mimetype": "text/x-python",
   "name": "python",
   "nbconvert_exporter": "python",
   "pygments_lexer": "ipython3",
   "version": "3.6.4"
  }
 },
 "nbformat": 4,
 "nbformat_minor": 2
}