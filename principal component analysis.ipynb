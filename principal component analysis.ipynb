{
 "cells": [
  {
   "cell_type": "markdown",
   "metadata": {},
   "source": [
    "### Principal Component Analysis\n",
    "\n",
    "&nbsp;\n",
    "\n",
    "Principal Component Analysis is undoubtedly the most abused algorithm in this repository, lol! Since iris is my default dataset, PCA is literally used in every python notebook for visualization except the text mining algorithms. It is one of my favorite algorithms for dimension reduction and data compression. Although I am not very inclined to use it for the purpose of matching or anomaly detection. What can be better? It is so intuitive that anyone with basic understanding of linear algebra can implement the algorithm in ten minutes! \n",
    "\n",
    "Basically, the algorithm intends to find some vectors $u$ to project the original data $x$ into lower dimension subspace. The objective of the projection $x^Tu$ is to retain as much variance as possible in the original dataset. In translation to math, we would love to maximize $||x^Tu||_2$ in geometry subject to $||u||_2 = 1$. We can solve the convex optimization by Lagrangian and it is easy to see that $u$ is merely a eigenvector of the covariance matrix of $x$. After selecting top $k$ eigenvectors, we would obtain the projection $x^Tu$ in a $k$ dimensional subspace rather than the original $n$ dimensional space.\n",
    "\n",
    "Andrew Ng's material does not focus on singular value decomposition, more SVD content can be found in this tutorial on PCA by Google\n",
    "\n",
    "https://arxiv.org/pdf/1404.1100.pdf\n",
    "\n",
    "If that's not enough, feel free to read the whole textbook dedicated to PCA\n",
    "\n",
    "http://cda.psych.uiuc.edu/statistical_learning_course/Jolliffe%20I.%20Principal%20Component%20Analysis%20(2ed.,%20Springer,%202002)(518s)_MVsa_.pdf\n",
    "\n"
   ]
  },
  {
   "cell_type": "code",
   "execution_count": 1,
   "metadata": {},
   "outputs": [],
   "source": [
    "import sklearn.decomposition\n",
    "import sklearn.datasets\n",
    "import matplotlib.pyplot as plt\n",
    "import numpy as np\n",
    "import scipy.linalg"
   ]
  },
  {
   "cell_type": "markdown",
   "metadata": {},
   "source": [
    "### Eigenvectors of Covariance Matrix"
   ]
  },
  {
   "cell_type": "code",
   "execution_count": 2,
   "metadata": {},
   "outputs": [],
   "source": [
    "#compute eigenvector of covariance matrix\n",
    "def self_pca_sigma(data,num_of_dims):\n",
    "\n",
    "    #numbers of eigenvectors do not exceed the number of features\n",
    "    assert num_of_dims<=data.shape[1],\"the transformed dimension should be smaller than the original\"\n",
    "\n",
    "    #standardize the data by minus mean and divided by std\n",
    "    #equivalent to z score in statistics\n",
    "    #equivalent to scipy.stats.zscore or sklearn.preprocessing.scale\n",
    "    z=np.divide(data-data.mean(axis=0),data.std(axis=0))\n",
    "\n",
    "    #get covariance matrix\n",
    "    #due to rounding errors\n",
    "    #it doesnt equal to np.cov(z.T)\n",
    "    sigma=z.T@z/z.shape[0]\n",
    "\n",
    "    #get eigenvectors\n",
    "    #please note eigenvectors are in the columns rather than rows\n",
    "    eigvals,eigvecs=np.linalg.eig(sigma)\n",
    "    \n",
    "    return eigvecs"
   ]
  },
  {
   "cell_type": "markdown",
   "metadata": {},
   "source": [
    "### Singular Value Decomposition"
   ]
  },
  {
   "cell_type": "code",
   "execution_count": 3,
   "metadata": {},
   "outputs": [],
   "source": [
    "#compute singular values\n",
    "def self_pca_svd(data,num_of_dims):\n",
    "\n",
    "    #numbers of eigenvectors do not exceed the number of features\n",
    "    assert num_of_dims<=data.shape[1],\"the transformed dimension should be smaller than the original\"\n",
    "\n",
    "    #standardize the data by minus mean and divided by std\n",
    "    #equivalent to z score in statistics\n",
    "    #equivalent to scipy.stats.zscore or sklearn.preprocessing.scale\n",
    "    z=np.divide(data-data.mean(axis=0),data.std(axis=0))\n",
    "\n",
    "    #the computation of scipy.linalg.svd is supposed to be faster\n",
    "    #scipy is a wrapper of LAPACK\n",
    "    #it reduces z score matrix into bidiagonal form then runs svd\n",
    "    #though np.linalg.eig is a wrapper of LAPACK as well\n",
    "    #it computes eigenvector via divide and conquer algorithm\n",
    "    U,D,Vt=scipy.linalg.svd(z)\n",
    "    \n",
    "    return U,D,Vt"
   ]
  },
  {
   "cell_type": "code",
   "execution_count": 4,
   "metadata": {},
   "outputs": [],
   "source": [
    "#our fav iris data\n",
    "iris=sklearn.datasets.load_iris()\n",
    "\n",
    "#initialize\n",
    "num_of_dims=2\n",
    "\n",
    "#get z score to maintain consistency with self implementations\n",
    "#although this is unnecessary for iris dataset\n",
    "#as i have never done this in other notebooks\n",
    "#because all features are in cm\n",
    "#unit variance doesnt really hurt, does it\n",
    "z=sklearn.preprocessing.StandardScaler().fit_transform(iris.data)"
   ]
  },
  {
   "cell_type": "code",
   "execution_count": 5,
   "metadata": {},
   "outputs": [
    {
     "name": "stdout",
     "output_type": "stream",
     "text": [
      "141 µs ± 1.92 µs per loop (mean ± std. dev. of 7 runs, 10000 loops each)\n"
     ]
    }
   ],
   "source": [
    "%timeit self_pca_sigma(iris.data,num_of_dims)"
   ]
  },
  {
   "cell_type": "code",
   "execution_count": 6,
   "metadata": {},
   "outputs": [
    {
     "name": "stdout",
     "output_type": "stream",
     "text": [
      "314 µs ± 9.91 µs per loop (mean ± std. dev. of 7 runs, 1000 loops each)\n"
     ]
    }
   ],
   "source": [
    "#although svd is proclaimed to be faster\n",
    "#it doesnt seem to be the case here\n",
    "#maybe for a really large matrix\n",
    "%timeit self_pca_svd(iris.data,num_of_dims)"
   ]
  },
  {
   "cell_type": "code",
   "execution_count": 7,
   "metadata": {},
   "outputs": [],
   "source": [
    "#self implementation\n",
    "#technically, all features are in cm\n",
    "#unit variance isnt needed\n",
    "eigvecs_sigma=self_pca_sigma(iris.data,num_of_dims)\n",
    "\n",
    "#select top k eigenvectors and transform\n",
    "self_newdims_sigma=z@eigvecs_sigma[:,:num_of_dims]"
   ]
  },
  {
   "cell_type": "code",
   "execution_count": 8,
   "metadata": {},
   "outputs": [],
   "source": [
    "#self implementation\n",
    "U,D,Vt=self_pca_svd(iris.data,num_of_dims)\n",
    "\n",
    "#select singular values\n",
    "self_newdims_svd=z@Vt[:num_of_dims].T"
   ]
  },
  {
   "cell_type": "code",
   "execution_count": 9,
   "metadata": {},
   "outputs": [],
   "source": [
    "#sklearn\n",
    "clf=sklearn.decomposition.PCA(num_of_dims)\n",
    "\n",
    "#transformation\n",
    "skl_newdims=clf.fit_transform(z)"
   ]
  },
  {
   "cell_type": "code",
   "execution_count": 10,
   "metadata": {},
   "outputs": [
    {
     "name": "stdout",
     "output_type": "stream",
     "text": [
      "[[ 0.52106591 -0.26934744  0.5804131   0.56485654]\n",
      " [-0.37741762 -0.92329566 -0.02449161 -0.06694199]]\n",
      "[[ 0.52106591 -0.26934744  0.5804131   0.56485654]\n",
      " [-0.37741762 -0.92329566 -0.02449161 -0.06694199]]\n",
      "[[ 0.52106591 -0.26934744  0.5804131   0.56485654]\n",
      " [ 0.37741762  0.92329566  0.02449161  0.06694199]]\n"
     ]
    }
   ],
   "source": [
    "#as u can see, the second eigenvector has the opposite sign\n",
    "#if u recalled what andrew ng said in the lectures\n",
    "#the basis vector can rotate freely in its own subspace\n",
    "#if u check out the code in sklearn\n",
    "#one comment is \"flip eigenvectors' sign to enforce deterministic output\"\n",
    "print(eigvecs_sigma.T[:num_of_dims])\n",
    "print(Vt[:num_of_dims])\n",
    "print(clf.components_)"
   ]
  },
  {
   "cell_type": "code",
   "execution_count": 11,
   "metadata": {
    "scrolled": true
   },
   "outputs": [
    {
     "data": {
      "image/png": "[encoded data removed]",
      "text/plain": [
       "<Figure size 432x288 with 1 Axes>"
      ]
     },
     "metadata": {
      "needs_background": "light"
     },
     "output_type": "display_data"
    }
   ],
   "source": [
    "#given the opposite sign of the second eigenvector\n",
    "#the viz looks like vertically flipped compared to sklearn\n",
    "for i in np.unique(iris.target):\n",
    "    plt.scatter(self_newdims_sigma[:,0][iris.target==i],\n",
    "                self_newdims_sigma[:,1][iris.target==i],\n",
    "                label=f'Label {int(i)}')\n",
    "    \n",
    "plt.title('PCA by Covariance Matrix')\n",
    "plt.xlabel('Dimension 1')\n",
    "plt.ylabel('Dimension 2')\n",
    "plt.legend(loc=0)\n",
    "plt.show()"
   ]
  },
  {
   "cell_type": "code",
   "execution_count": 12,
   "metadata": {},
   "outputs": [
    {
     "data": {
      "image/png": "[encoded data removed]",
      "text/plain": [
       "<Figure size 432x288 with 1 Axes>"
      ]
     },
     "metadata": {
      "needs_background": "light"
     },
     "output_type": "display_data"
    }
   ],
   "source": [
    "#given the opposite sign of the secondeigen vector\n",
    "#the viz looks like vertically flipped compared to sklearn\n",
    "for i in np.unique(iris.target):\n",
    "    plt.scatter(self_newdims_svd[:,0][iris.target==i],\n",
    "                self_newdims_svd[:,1][iris.target==i],\n",
    "                label=f'Label {int(i)}')\n",
    "    \n",
    "plt.title('PCA by SVD')\n",
    "plt.xlabel('Dimension 1')\n",
    "plt.ylabel('Dimension 2')\n",
    "plt.legend(loc=0)\n",
    "plt.show()"
   ]
  },
  {
   "cell_type": "code",
   "execution_count": 13,
   "metadata": {
    "scrolled": true
   },
   "outputs": [
    {
     "data": {
      "image/png": "[encoded data removed]",
      "text/plain": [
       "<Figure size 432x288 with 1 Axes>"
      ]
     },
     "metadata": {
      "needs_background": "light"
     },
     "output_type": "display_data"
    }
   ],
   "source": [
    "for i in np.unique(iris.target):\n",
    "    plt.scatter(skl_newdims[:,0][iris.target==i],\n",
    "                skl_newdims[:,1][iris.target==i],\n",
    "                label=f'Label {int(i)}')\n",
    "    \n",
    "plt.title('PCA by sklearn')\n",
    "plt.xlabel('Dimension 1')\n",
    "plt.ylabel('Dimension 2')\n",
    "plt.legend(loc=0)\n",
    "plt.show()"
   ]
  },
  {
   "cell_type": "markdown",
   "metadata": {},
   "source": [
    "### Optimal Number of Components\n",
    "\n",
    "&nbsp;\n",
    "\n",
    "The optimal number of components is as facile as PCA itself. In our case, we already know the number because we merely want to make 2D visualization. For a more general case of dimension reduction, the optimal is determined by the explained variance (R squared). We set up a threshold (usually 95% in statistics) and find the minimum number of components to explain at least 95% of the variance.\n",
    "\n",
    "You can find the error computation on page 9\n",
    "\n",
    "https://courses.cs.washington.edu/courses/cse446/19au/10pca_annotated.pdf"
   ]
  },
  {
   "cell_type": "code",
   "execution_count": 14,
   "metadata": {},
   "outputs": [],
   "source": [
    "#you can think of explained variance as r squared in regression\n",
    "#the computation is essentially sum of squared regression\n",
    "#equivalent to 1-sum of squared errors/sum of squared total\n",
    "def explained_variance_general(data,newdims,eigvecs):\n",
    "\n",
    "    miu=data.mean(axis=0)\n",
    "    result=[]\n",
    "    for i in range(newdims.shape[1]):\n",
    "        \n",
    "        #construct estimation by projection and components\n",
    "        #since the components are orthogonal\n",
    "        #the inverse of an orthogonal matrix is its transpose\n",
    "        #the projection can be reverted by multiplying a transposed component\n",
    "        #and add miu since it’s the standard preprocessing\n",
    "        #if it makes you feel better\n",
    "        #u can multiply the covariance matrix as well\n",
    "        inversed=newdims[:,i].reshape(-1,1)@eigvecs[i].reshape(1,-1)+miu\n",
    "        \n",
    "        #sum of squared errors\n",
    "        numerator=np.diag((inversed-data).T@(inversed-data)).sum()**0.5\n",
    "        \n",
    "        #sum of squared total\n",
    "        denominator=np.diag((data-miu).T@(data-miu)).sum()**0.5\n",
    "        \n",
    "        #r squared\n",
    "        result.append(1-(numerator/denominator)**2)\n",
    "        \n",
    "    return result"
   ]
  },
  {
   "cell_type": "code",
   "execution_count": 15,
   "metadata": {},
   "outputs": [],
   "source": [
    "#svd is efficient but also convenient for explained variance computation\n",
    "#explained standard deviation is merely on the diagonal of D \n",
    "#take the squared singular values and we obtain explained variance\n",
    "def explained_variance_svd(data,D,num_of_dims):    \n",
    "    return (D**2)[:num_of_dims]/(D**2).sum()"
   ]
  },
  {
   "cell_type": "code",
   "execution_count": 16,
   "metadata": {
    "scrolled": true
   },
   "outputs": [
    {
     "name": "stdout",
     "output_type": "stream",
     "text": [
      "[0.7296244541329985, 0.22850761786701734]\n",
      "[0.72962445 0.22850762]\n",
      "[0.72962445 0.22850762]\n"
     ]
    }
   ],
   "source": [
    "#explained variance of three methods are consistent\n",
    "print(explained_variance_general(z,self_newdims_sigma,\n",
    "                                 eigvecs_sigma.T[:num_of_dims]))\n",
    "\n",
    "print(explained_variance_svd(z,D,num_of_dims))\n",
    "\n",
    "print(clf.explained_variance_ratio_)"
   ]
  },
  {
   "cell_type": "code",
   "execution_count": 17,
   "metadata": {},
   "outputs": [],
   "source": [
    "#to demonstrate the concept of the optimal number\n",
    "#we take svd as an example\n",
    "#simply becuz its r squared computation is simple\n",
    "rsquared=[]\n",
    "threshold=0.95\n",
    "\n",
    "#the number of components cannot exceed the number of features\n",
    "for num_of_dims in range(1,iris.data.shape[1]+1):\n",
    "    U,D,Vt=self_pca_svd(iris.data,num_of_dims)\n",
    "    self_newdims_svd=z@Vt[:num_of_dims].T\n",
    "    rsquared.append(sum(explained_variance_svd(z,D,num_of_dims)))"
   ]
  },
  {
   "cell_type": "code",
   "execution_count": 18,
   "metadata": {},
   "outputs": [],
   "source": [
    "#find the optima\n",
    "optima=[i for i in rsquared if i>threshold][0]\n",
    "ind=rsquared.index(optima)+1"
   ]
  },
  {
   "cell_type": "code",
   "execution_count": 19,
   "metadata": {},
   "outputs": [
    {
     "data": {
      "image/png": "[encoded data removed]",
      "text/plain": [
       "<Figure size 432x288 with 1 Axes>"
      ]
     },
     "metadata": {
      "needs_background": "light"
     },
     "output_type": "display_data"
    }
   ],
   "source": [
    "#viz\n",
    "plt.plot(range(1,iris.data.shape[1]+1),rsquared)\n",
    "plt.plot([ind],[optima],lw=0,marker='*',markersize=10,color='gold') \n",
    "plt.xticks(range(1,iris.data.shape[1]+1))\n",
    "plt.title('Optimal Number of Components')\n",
    "plt.xlabel('Number of Components')\n",
    "plt.ylabel('R Squared')\n",
    "plt.show()"
   ]
  },
  {
   "cell_type": "code",
   "execution_count": null,
   "metadata": {},
   "outputs": [],
   "source": []
  }
 ],
 "metadata": {
  "kernelspec": {
   "display_name": "Python 3",
   "language": "python",
   "name": "python3"
  },
  "language_info": {
   "codemirror_mode": {
    "name": "ipython",
    "version": 3
   },
   "file_extension": ".py",
   "mimetype": "text/x-python",
   "name": "python",
   "nbconvert_exporter": "python",
   "pygments_lexer": "ipython3",
   "version": "3.6.5"
  }
 },
 "nbformat": 4,
 "nbformat_minor": 2
}
