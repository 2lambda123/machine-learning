{
 "cells": [
  {
   "cell_type": "code",
   "execution_count": 1,
   "metadata": {},
   "outputs": [],
   "source": [
    "#minimum spanning tree is a subset of a graph\n",
    "#where every vertex is connected to at least one other vertex\n",
    "#but at most connected to two other vertices\n",
    "#that indicates no cycle\n",
    "#and the total weight of the graph is the minimum possible\n",
    "import copy"
   ]
  },
  {
   "cell_type": "code",
   "execution_count": 2,
   "metadata": {},
   "outputs": [],
   "source": [
    "#Prim's algorithm is perfect for the broadcast problem\n",
    "#details of broadcast problem can be found in the following link\n",
    "# http://interactivepython.org/runestone/static/pythonds/Graphs/PrimsSpanningTreeAlgorithm.html\n",
    "\n",
    "#say you wanna broadcast to the far end user\n",
    "#and also everyone along the way\n",
    "#prim is a perfect solution\n",
    "#but if the destination is not at the far end\n",
    "#we could miss a few vertices along the way\n",
    "\n",
    "#the algorithm is somewhat similar to bfs \n",
    "#details about bfs are in the following link\n",
    "# https://github.com/je-suis-tm/graph-theory/blob/master/BFS%20DFS%20on%20DCG.ipynb\n",
    "#except we dont pop children vertice by left to right order\n",
    "#we always pop the vertex with minimum weight on the edge\n",
    "#which is why we can solve the problem in priority heap queue as well\n",
    "\n",
    "#plz note that we always find the vertex with minimum weight in our queue\n",
    "#sometimes it may not be the shortest path to our destination\n",
    "#think of it as a lazy guy who tries to go home\n",
    "#he is on a triangle with edges 3,4,5\n",
    "#he always picks the road that is the shortiest to the next turn\n",
    "#from one point to another, he is going to take 3+4 to the destination\n",
    "#however, there is a direct route which only costs 5\n",
    "#if we try to find the shortest path to the destination\n",
    "#dijkstra is an ideal solution\n",
    "#details of dijkstra can be found in the following link\n",
    "# https://github.com/je-suis-tm/graph-theory/blob/master/dijkstra%20shortest%20path.ipynb\n",
    "class graph:\n",
    "    def __init__(self):\n",
    "        self.graph={}\n",
    "        self.visited={}\n",
    "\n",
    "    def append(self,vertexid,edge,weight):\n",
    "        if vertexid not in self.graph.keys():          \n",
    "            self.graph[vertexid]={}\n",
    "            self.visited[vertexid]=0\n",
    "        self.graph[vertexid][edge]=weight\n",
    "\n",
    "    def reveal(self):\n",
    "        return self.graph\n",
    "    \n",
    "    def vertex(self):\n",
    "        return list(self.graph.keys())\n",
    "\n",
    "    def edge(self,vertexid):\n",
    "        return list(self.graph[vertexid].keys())\n",
    "    \n",
    "    def weight(self,vertexid,edge):\n",
    "        \n",
    "        return (self.graph[vertexid][edge])\n",
    "    \n",
    "    def size(self):\n",
    "        return len(self.graph)\n",
    "    \n",
    "    def visit(self,vertexid):\n",
    "        self.visited[vertexid]=1\n",
    "    \n",
    "    def go(self,vertexid):\n",
    "        return self.visited[vertexid]\n",
    "    \n",
    "    def route(self):\n",
    "        return self.visited"
   ]
  },
  {
   "cell_type": "code",
   "execution_count": 3,
   "metadata": {},
   "outputs": [],
   "source": [
    "#we use a dictionary instead of a list as queue\n",
    "#cuz we need to pop the vertex with minimum weight on the edge\n",
    "#result is a list that keeps the order of vertices we have visited\n",
    "#this is the same concept as topological sort\n",
    "#details of topological sort can be found in the following link\n",
    "# https://github.com/je-suis-tm/graph-theory/blob/master/topological%20sort.ipynb\n",
    "#end point is optional\n",
    "\n",
    "def prim(df,start,end=None):\n",
    "    \n",
    "    #queue keeps track of all the edges\n",
    "    #we select the one with the minimum weight\n",
    "    queue={}\n",
    "    queue[start]=0\n",
    "    \n",
    "    #route keeps track of how we travel from one vertex to another\n",
    "    route={}\n",
    "    route[start]=start\n",
    "    result=[]\n",
    "    edge={}\n",
    "    \n",
    "    while queue:\n",
    "        print(queue)\n",
    "        \n",
    "        #note that when we have the same values\n",
    "        #they all are the minimum value\n",
    "        #dictionary would pop the one with the smallest key\n",
    "        key=min(queue,key=queue.get)\n",
    "        queue.pop(key)\n",
    "        result.append(key)\n",
    "        df.visit(key)\n",
    "\n",
    "        if key==end:       \n",
    "            output=[[route[i],i] for i in result]\n",
    "            return output\n",
    "        \n",
    "        for i in df.edge(key):\n",
    "            if i not in queue and df.go(i)==0:\n",
    "                queue[i]=df.weight(key,i)\n",
    "                route[i]=key\n",
    "                \n",
    "            #everytime we find a smaller weight to visit an unvisited vertex\n",
    "            #we need to update the smaller weight in queue\n",
    "            if i in queue and queue[i]>df.weight(key,i):\n",
    "                queue[i]=df.weight(key,i)\n",
    "                route[i]=key                \n",
    "                    \n",
    "        \n",
    "    output=[[route[i],i] for i in result]\n",
    "    output.remove([start,start])\n",
    "    return output"
   ]
  },
  {
   "cell_type": "code",
   "execution_count": 4,
   "metadata": {},
   "outputs": [],
   "source": [
    "#note that for prim to work\n",
    "#we need an undirected graph\n",
    "#in another word, vertices with edge connections \n",
    "#are mutually connected to each other\n",
    "df=graph()\n",
    "df.append(1,2,6)\n",
    "df.append(1,3,5)\n",
    "df.append(2,1,6)\n",
    "df.append(2,4,8)\n",
    "df.append(2,6,3)\n",
    "df.append(3,1,5)\n",
    "df.append(3,4,2)\n",
    "df.append(3,5,7)\n",
    "df.append(4,2,8)\n",
    "df.append(4,3,2)\n",
    "df.append(4,5,7)\n",
    "df.append(5,3,3)\n",
    "df.append(5,4,7)\n",
    "df.append(5,7,9)\n",
    "df.append(6,2,3)\n",
    "df.append(6,7,5)\n",
    "df.append(7,5,9)\n",
    "df.append(7,6,5)\n",
    "df.append(7,8,13)\n",
    "df.append(8,7,13)"
   ]
  },
  {
   "cell_type": "markdown",
   "metadata": {},
   "source": [
    "![alt text](./preview/prim.jpg)"
   ]
  },
  {
   "cell_type": "code",
   "execution_count": 5,
   "metadata": {},
   "outputs": [
    {
     "name": "stdout",
     "output_type": "stream",
     "text": [
      "{1: 0}\n",
      "{2: 6, 3: 5}\n",
      "{2: 6, 4: 2, 5: 7}\n",
      "{2: 6, 5: 7}\n",
      "{5: 7, 6: 3}\n",
      "{5: 7, 7: 5}\n",
      "{5: 7, 8: 13}\n",
      "{8: 13}\n"
     ]
    },
    {
     "data": {
      "text/plain": [
       "[[1, 3], [3, 4], [1, 2], [2, 6], [6, 7], [3, 5], [7, 8]]"
      ]
     },
     "execution_count": 5,
     "metadata": {},
     "output_type": "execute_result"
    }
   ],
   "source": [
    "prim(copy.deepcopy(df),1)"
   ]
  },
  {
   "cell_type": "code",
   "execution_count": 6,
   "metadata": {},
   "outputs": [],
   "source": [
    "def trace_root(disjointset,target):\n",
    "\n",
    "    if disjointset[target]!=target:\n",
    "        trace_root(disjointset,disjointset[target])\n",
    "    else:\n",
    "        return target"
   ]
  },
  {
   "cell_type": "code",
   "execution_count": 7,
   "metadata": {},
   "outputs": [],
   "source": [
    "def kruskal(df):\n",
    "    \n",
    "    d={}\n",
    "    output=[]\n",
    "    \n",
    "    #use dictionary to sort edges by weight\n",
    "    for i in df.vertex():\n",
    "        for j in df.edge(i):\n",
    "            #convert edge into string\n",
    "            #as the graph is bidirected\n",
    "            #we only need one edge for each pair of two vertices\n",
    "            if f'{j}-{i}' not in d.keys():\n",
    "                d[f'{i}-{j}']=df.weight(i,j)\n",
    "\n",
    "    sort=sorted(d.items(), key=lambda x: x[1])\n",
    "    \n",
    "    #to achieve minimum spanning tree\n",
    "    #we need to avoid cycles\n",
    "    #using disjointset to detect cycle\n",
    "    #for more details, you can go to geeksforgeeks\n",
    "    # https://www.geeksforgeeks.org/union-find/\n",
    "    disjointset={}\n",
    "    \n",
    "    #lets skip the part where default=-1\n",
    "    for i in df.vertex():\n",
    "        disjointset[i]=i\n",
    "    \n",
    "    \n",
    "    for i in sort:\n",
    "        \n",
    "        parent=int(i[0].split('-')[0])\n",
    "        child=int(i[0].split('-')[1])\n",
    "        \n",
    "        print(f'from {parent} to {child} at {df.weight(parent,child)}')\n",
    "        \n",
    "        #first we need to check disjoint set\n",
    "        #if it already has indicated cycle\n",
    "        #trace_root function will go to infinite loops\n",
    "        if disjointset[parent]!=disjointset[child]:\n",
    "            #if we trace back to the root of the tree\n",
    "            #and it indicates no cycle\n",
    "            #we update the disjoint set and add edge into output\n",
    "            if trace_root(disjointset,parent)!=trace_root(disjointset,child):\n",
    "                disjointset[child]=parent\n",
    "                output.append([parent,child])   \n",
    "                \n",
    "                \n",
    "    return output"
   ]
  },
  {
   "cell_type": "code",
   "execution_count": 8,
   "metadata": {},
   "outputs": [
    {
     "name": "stdout",
     "output_type": "stream",
     "text": [
      "from 3 to 4 at 2\n",
      "from 2 to 6 at 3\n",
      "from 1 to 3 at 5\n",
      "from 6 to 7 at 5\n",
      "from 1 to 2 at 6\n",
      "from 3 to 5 at 7\n",
      "from 4 to 5 at 7\n",
      "from 2 to 4 at 8\n",
      "from 5 to 7 at 9\n",
      "from 7 to 8 at 13\n"
     ]
    },
    {
     "data": {
      "text/plain": [
       "[[3, 4], [2, 6], [1, 3], [6, 7], [1, 2], [3, 5], [7, 8]]"
      ]
     },
     "execution_count": 8,
     "metadata": {},
     "output_type": "execute_result"
    }
   ],
   "source": [
    "kruskal(copy.deepcopy(df))"
   ]
  },
  {
   "cell_type": "code",
   "execution_count": null,
   "metadata": {},
   "outputs": [],
   "source": []
  }
 ],
 "metadata": {
  "kernelspec": {
   "display_name": "Python 3",
   "language": "python",
   "name": "python3"
  },
  "language_info": {
   "codemirror_mode": {
    "name": "ipython",
    "version": 3
   },
   "file_extension": ".py",
   "mimetype": "text/x-python",
   "name": "python",
   "nbconvert_exporter": "python",
   "pygments_lexer": "ipython3",
   "version": "3.6.8"
  }
 },
 "nbformat": 4,
 "nbformat_minor": 2
}
